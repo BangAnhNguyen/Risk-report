{
 "cells": [
  {
   "cell_type": "code",
   "execution_count": 131,
   "id": "5d620966",
   "metadata": {},
   "outputs": [],
   "source": [
    "import numpy as np\n",
    "import pandas as pd\n",
    "import matplotlib.pyplot as plt\n",
    "import warnings\n",
    "warnings.filterwarnings(\"ignore\")\n",
    "from sklearn.preprocessing import OrdinalEncoder\n",
    "import seaborn as sns\n",
    "sns.set_theme()\n",
    "from sklearn.tree import DecisionTreeClassifier\n",
    "from sklearn.model_selection import GridSearchCV\n",
    "from sklearn.ensemble import RandomForestClassifier, GradientBoostingClassifier\n",
    "from sklearn.linear_model import LogisticRegression\n",
    "from sklearn.model_selection import KFold\n",
    "from sklearn.metrics import accuracy_score,confusion_matrix,precision_score,recall_score,f1_score\n",
    "from sklearn.model_selection import train_test_split\n",
    "#import scorecardpy as sc\n",
    "from sklearn.model_selection import cross_val_score"
   ]
  },
  {
   "cell_type": "code",
   "execution_count": 132,
   "id": "15cc23f9",
   "metadata": {},
   "outputs": [],
   "source": [
    "df = pd.read_csv('Data/bank-additional-full.csv', delimiter= ';')"
   ]
  },
  {
   "cell_type": "code",
   "execution_count": 133,
   "id": "64aa56e8",
   "metadata": {},
   "outputs": [],
   "source": [
    "df_root = pd.read_csv('Data/bank-additional-full.csv', delimiter= ';')"
   ]
  },
  {
   "cell_type": "code",
   "execution_count": 134,
   "id": "afc7d63b",
   "metadata": {
    "scrolled": true
   },
   "outputs": [
    {
     "data": {
      "text/html": [
       "<div>\n",
       "<style scoped>\n",
       "    .dataframe tbody tr th:only-of-type {\n",
       "        vertical-align: middle;\n",
       "    }\n",
       "\n",
       "    .dataframe tbody tr th {\n",
       "        vertical-align: top;\n",
       "    }\n",
       "\n",
       "    .dataframe thead th {\n",
       "        text-align: right;\n",
       "    }\n",
       "</style>\n",
       "<table border=\"1\" class=\"dataframe\">\n",
       "  <thead>\n",
       "    <tr style=\"text-align: right;\">\n",
       "      <th></th>\n",
       "      <th>age</th>\n",
       "      <th>job</th>\n",
       "      <th>marital</th>\n",
       "      <th>education</th>\n",
       "      <th>default</th>\n",
       "      <th>housing</th>\n",
       "      <th>loan</th>\n",
       "      <th>contact</th>\n",
       "      <th>month</th>\n",
       "      <th>day_of_week</th>\n",
       "      <th>...</th>\n",
       "      <th>campaign</th>\n",
       "      <th>pdays</th>\n",
       "      <th>previous</th>\n",
       "      <th>poutcome</th>\n",
       "      <th>emp.var.rate</th>\n",
       "      <th>cons.price.idx</th>\n",
       "      <th>cons.conf.idx</th>\n",
       "      <th>euribor3m</th>\n",
       "      <th>nr.employed</th>\n",
       "      <th>y</th>\n",
       "    </tr>\n",
       "  </thead>\n",
       "  <tbody>\n",
       "    <tr>\n",
       "      <th>0</th>\n",
       "      <td>49</td>\n",
       "      <td>blue-collar</td>\n",
       "      <td>married</td>\n",
       "      <td>basic.9y</td>\n",
       "      <td>no</td>\n",
       "      <td>yes</td>\n",
       "      <td>no</td>\n",
       "      <td>cellular</td>\n",
       "      <td>nov</td>\n",
       "      <td>fri</td>\n",
       "      <td>...</td>\n",
       "      <td>1</td>\n",
       "      <td>999</td>\n",
       "      <td>1</td>\n",
       "      <td>failure</td>\n",
       "      <td>-0.1</td>\n",
       "      <td>93.2</td>\n",
       "      <td>-42.0</td>\n",
       "      <td>4.021</td>\n",
       "      <td>5195.8</td>\n",
       "      <td>no</td>\n",
       "    </tr>\n",
       "    <tr>\n",
       "      <th>1</th>\n",
       "      <td>30</td>\n",
       "      <td>admin.</td>\n",
       "      <td>single</td>\n",
       "      <td>university.degree</td>\n",
       "      <td>no</td>\n",
       "      <td>yes</td>\n",
       "      <td>yes</td>\n",
       "      <td>telephone</td>\n",
       "      <td>nov</td>\n",
       "      <td>fri</td>\n",
       "      <td>...</td>\n",
       "      <td>10</td>\n",
       "      <td>999</td>\n",
       "      <td>0</td>\n",
       "      <td>nonexistent</td>\n",
       "      <td>-0.1</td>\n",
       "      <td>93.2</td>\n",
       "      <td>-42.0</td>\n",
       "      <td>4.021</td>\n",
       "      <td>5195.8</td>\n",
       "      <td>no</td>\n",
       "    </tr>\n",
       "    <tr>\n",
       "      <th>2</th>\n",
       "      <td>52</td>\n",
       "      <td>technician</td>\n",
       "      <td>married</td>\n",
       "      <td>basic.9y</td>\n",
       "      <td>no</td>\n",
       "      <td>yes</td>\n",
       "      <td>no</td>\n",
       "      <td>cellular</td>\n",
       "      <td>nov</td>\n",
       "      <td>fri</td>\n",
       "      <td>...</td>\n",
       "      <td>1</td>\n",
       "      <td>999</td>\n",
       "      <td>0</td>\n",
       "      <td>nonexistent</td>\n",
       "      <td>-0.1</td>\n",
       "      <td>93.2</td>\n",
       "      <td>-42.0</td>\n",
       "      <td>4.021</td>\n",
       "      <td>5195.8</td>\n",
       "      <td>no</td>\n",
       "    </tr>\n",
       "    <tr>\n",
       "      <th>3</th>\n",
       "      <td>31</td>\n",
       "      <td>admin.</td>\n",
       "      <td>single</td>\n",
       "      <td>high.school</td>\n",
       "      <td>no</td>\n",
       "      <td>no</td>\n",
       "      <td>no</td>\n",
       "      <td>cellular</td>\n",
       "      <td>nov</td>\n",
       "      <td>fri</td>\n",
       "      <td>...</td>\n",
       "      <td>2</td>\n",
       "      <td>999</td>\n",
       "      <td>0</td>\n",
       "      <td>nonexistent</td>\n",
       "      <td>-0.1</td>\n",
       "      <td>93.2</td>\n",
       "      <td>-42.0</td>\n",
       "      <td>4.021</td>\n",
       "      <td>5195.8</td>\n",
       "      <td>no</td>\n",
       "    </tr>\n",
       "    <tr>\n",
       "      <th>4</th>\n",
       "      <td>49</td>\n",
       "      <td>admin.</td>\n",
       "      <td>married</td>\n",
       "      <td>high.school</td>\n",
       "      <td>no</td>\n",
       "      <td>yes</td>\n",
       "      <td>no</td>\n",
       "      <td>cellular</td>\n",
       "      <td>nov</td>\n",
       "      <td>fri</td>\n",
       "      <td>...</td>\n",
       "      <td>1</td>\n",
       "      <td>999</td>\n",
       "      <td>0</td>\n",
       "      <td>nonexistent</td>\n",
       "      <td>-0.1</td>\n",
       "      <td>93.2</td>\n",
       "      <td>-42.0</td>\n",
       "      <td>4.021</td>\n",
       "      <td>5195.8</td>\n",
       "      <td>no</td>\n",
       "    </tr>\n",
       "  </tbody>\n",
       "</table>\n",
       "<p>5 rows × 21 columns</p>\n",
       "</div>"
      ],
      "text/plain": [
       "   age          job  marital          education default housing loan  \\\n",
       "0   49  blue-collar  married           basic.9y      no     yes   no   \n",
       "1   30       admin.   single  university.degree      no     yes  yes   \n",
       "2   52   technician  married           basic.9y      no     yes   no   \n",
       "3   31       admin.   single        high.school      no      no   no   \n",
       "4   49       admin.  married        high.school      no     yes   no   \n",
       "\n",
       "     contact month day_of_week  ...  campaign  pdays  previous     poutcome  \\\n",
       "0   cellular   nov         fri  ...         1    999         1      failure   \n",
       "1  telephone   nov         fri  ...        10    999         0  nonexistent   \n",
       "2   cellular   nov         fri  ...         1    999         0  nonexistent   \n",
       "3   cellular   nov         fri  ...         2    999         0  nonexistent   \n",
       "4   cellular   nov         fri  ...         1    999         0  nonexistent   \n",
       "\n",
       "  emp.var.rate  cons.price.idx  cons.conf.idx  euribor3m  nr.employed   y  \n",
       "0         -0.1            93.2          -42.0      4.021       5195.8  no  \n",
       "1         -0.1            93.2          -42.0      4.021       5195.8  no  \n",
       "2         -0.1            93.2          -42.0      4.021       5195.8  no  \n",
       "3         -0.1            93.2          -42.0      4.021       5195.8  no  \n",
       "4         -0.1            93.2          -42.0      4.021       5195.8  no  \n",
       "\n",
       "[5 rows x 21 columns]"
      ]
     },
     "execution_count": 134,
     "metadata": {},
     "output_type": "execute_result"
    }
   ],
   "source": [
    "df.head()"
   ]
  },
  {
   "cell_type": "code",
   "execution_count": 135,
   "id": "e3088cbf",
   "metadata": {},
   "outputs": [
    {
     "data": {
      "text/plain": [
       "(41235, 21)"
      ]
     },
     "execution_count": 135,
     "metadata": {},
     "output_type": "execute_result"
    }
   ],
   "source": [
    "df.shape"
   ]
  },
  {
   "cell_type": "code",
   "execution_count": 136,
   "id": "f26cfb0a",
   "metadata": {
    "scrolled": false
   },
   "outputs": [
    {
     "name": "stdout",
     "output_type": "stream",
     "text": [
      "<class 'pandas.core.frame.DataFrame'>\n",
      "RangeIndex: 41235 entries, 0 to 41234\n",
      "Data columns (total 21 columns):\n",
      " #   Column          Non-Null Count  Dtype  \n",
      "---  ------          --------------  -----  \n",
      " 0   age             41235 non-null  int64  \n",
      " 1   job             41235 non-null  object \n",
      " 2   marital         41235 non-null  object \n",
      " 3   education       41235 non-null  object \n",
      " 4   default         41235 non-null  object \n",
      " 5   housing         41235 non-null  object \n",
      " 6   loan            41235 non-null  object \n",
      " 7   contact         41235 non-null  object \n",
      " 8   month           41235 non-null  object \n",
      " 9   day_of_week     41235 non-null  object \n",
      " 10  duration        41235 non-null  int64  \n",
      " 11  campaign        41235 non-null  int64  \n",
      " 12  pdays           41235 non-null  int64  \n",
      " 13  previous        41235 non-null  int64  \n",
      " 14  poutcome        41235 non-null  object \n",
      " 15  emp.var.rate    41235 non-null  float64\n",
      " 16  cons.price.idx  41235 non-null  float64\n",
      " 17  cons.conf.idx   41235 non-null  float64\n",
      " 18  euribor3m       41235 non-null  float64\n",
      " 19  nr.employed     41235 non-null  float64\n",
      " 20  y               41235 non-null  object \n",
      "dtypes: float64(5), int64(5), object(11)\n",
      "memory usage: 6.6+ MB\n"
     ]
    }
   ],
   "source": [
    "df.info()"
   ]
  },
  {
   "cell_type": "markdown",
   "id": "2243b725",
   "metadata": {},
   "source": [
    "#### Encode"
   ]
  },
  {
   "cell_type": "markdown",
   "id": "e7dd807e",
   "metadata": {},
   "source": [
    "##### month"
   ]
  },
  {
   "cell_type": "code",
   "execution_count": 137,
   "id": "d61d6fe1",
   "metadata": {},
   "outputs": [],
   "source": [
    "enc_month = df['month']\n",
    "enc_month = OrdinalEncoder(categories = [['jan', 'feb', 'mar', 'apr', 'may', 'jun', 'jul', 'aug',\n",
    "                                         'sep', 'oct', 'nov', 'dec']])"
   ]
  },
  {
   "cell_type": "code",
   "execution_count": 138,
   "id": "09c9aaed",
   "metadata": {},
   "outputs": [],
   "source": [
    "df['month'] = enc_month.fit_transform(df[['month']])"
   ]
  },
  {
   "cell_type": "code",
   "execution_count": 139,
   "id": "1a8fd1ab",
   "metadata": {
    "scrolled": true
   },
   "outputs": [
    {
     "data": {
      "text/plain": [
       "4.0     13804\n",
       "6.0      7174\n",
       "7.0      6178\n",
       "5.0      5318\n",
       "10.0     4113\n",
       "3.0      2632\n",
       "9.0       718\n",
       "8.0       570\n",
       "2.0       546\n",
       "11.0      182\n",
       "Name: month, dtype: int64"
      ]
     },
     "execution_count": 139,
     "metadata": {},
     "output_type": "execute_result"
    }
   ],
   "source": [
    "df['month'].value_counts()"
   ]
  },
  {
   "cell_type": "markdown",
   "id": "b9c1011d",
   "metadata": {},
   "source": [
    "##### day o week"
   ]
  },
  {
   "cell_type": "code",
   "execution_count": 140,
   "id": "07847b94",
   "metadata": {},
   "outputs": [],
   "source": [
    "enc_dayofweek = df['day_of_week']\n",
    "enc_dayofweek = OrdinalEncoder(categories = [['mon', 'tue', 'wed', 'thu', 'fri', 'sat', 'sun']])"
   ]
  },
  {
   "cell_type": "code",
   "execution_count": 141,
   "id": "0200a173",
   "metadata": {},
   "outputs": [],
   "source": [
    "df['day_of_week'] = enc_dayofweek.fit_transform(df[['day_of_week']])"
   ]
  },
  {
   "cell_type": "code",
   "execution_count": 142,
   "id": "810eea8d",
   "metadata": {},
   "outputs": [
    {
     "data": {
      "text/plain": [
       "3.0    8623\n",
       "0.0    8549\n",
       "2.0    8134\n",
       "1.0    8090\n",
       "4.0    7839\n",
       "Name: day_of_week, dtype: int64"
      ]
     },
     "execution_count": 142,
     "metadata": {},
     "output_type": "execute_result"
    }
   ],
   "source": [
    "df['day_of_week'].value_counts()"
   ]
  },
  {
   "cell_type": "markdown",
   "id": "52123ce0",
   "metadata": {},
   "source": [
    "##### job, marital, education, poutcome, contact, housing"
   ]
  },
  {
   "cell_type": "code",
   "execution_count": 143,
   "id": "e43932d8",
   "metadata": {},
   "outputs": [
    {
     "data": {
      "text/plain": [
       "university.degree      12179\n",
       "high.school             9526\n",
       "basic.9y                6050\n",
       "professional.course     5250\n",
       "basic.4y                4184\n",
       "basic.6y                2293\n",
       "unknown                 1735\n",
       "illiterate                18\n",
       "Name: education, dtype: int64"
      ]
     },
     "execution_count": 143,
     "metadata": {},
     "output_type": "execute_result"
    }
   ],
   "source": [
    "df_root['education'].value_counts()"
   ]
  },
  {
   "cell_type": "code",
   "execution_count": 144,
   "id": "54a61d52",
   "metadata": {},
   "outputs": [],
   "source": [
    "df['education'] = df['education'].apply(lambda x: 'basic' if x in ['basic.9y', 'basic.4y', 'basic.6y'] else x)"
   ]
  },
  {
   "cell_type": "code",
   "execution_count": 145,
   "id": "5943029e",
   "metadata": {},
   "outputs": [],
   "source": [
    "enc_cols_getdummies = ['job', 'marital', 'education', 'poutcome', 'contact', 'housing']"
   ]
  },
  {
   "cell_type": "code",
   "execution_count": 146,
   "id": "ea098ea7",
   "metadata": {},
   "outputs": [],
   "source": [
    "for col in enc_cols_getdummies:\n",
    "    encoded = pd.get_dummies(df[col], prefix = col)\n",
    "    df = pd.concat([df, encoded], axis = 1)"
   ]
  },
  {
   "cell_type": "code",
   "execution_count": 147,
   "id": "2507f64b",
   "metadata": {},
   "outputs": [],
   "source": [
    "df = df.drop(['job', 'marital', 'education', 'poutcome', 'contact', 'housing'], axis = 1)"
   ]
  },
  {
   "cell_type": "code",
   "execution_count": 148,
   "id": "2679e82a",
   "metadata": {},
   "outputs": [
    {
     "data": {
      "text/html": [
       "<div>\n",
       "<style scoped>\n",
       "    .dataframe tbody tr th:only-of-type {\n",
       "        vertical-align: middle;\n",
       "    }\n",
       "\n",
       "    .dataframe tbody tr th {\n",
       "        vertical-align: top;\n",
       "    }\n",
       "\n",
       "    .dataframe thead th {\n",
       "        text-align: right;\n",
       "    }\n",
       "</style>\n",
       "<table border=\"1\" class=\"dataframe\">\n",
       "  <thead>\n",
       "    <tr style=\"text-align: right;\">\n",
       "      <th></th>\n",
       "      <th>age</th>\n",
       "      <th>default</th>\n",
       "      <th>loan</th>\n",
       "      <th>month</th>\n",
       "      <th>day_of_week</th>\n",
       "      <th>duration</th>\n",
       "      <th>campaign</th>\n",
       "      <th>pdays</th>\n",
       "      <th>previous</th>\n",
       "      <th>emp.var.rate</th>\n",
       "      <th>...</th>\n",
       "      <th>education_university.degree</th>\n",
       "      <th>education_unknown</th>\n",
       "      <th>poutcome_failure</th>\n",
       "      <th>poutcome_nonexistent</th>\n",
       "      <th>poutcome_success</th>\n",
       "      <th>contact_cellular</th>\n",
       "      <th>contact_telephone</th>\n",
       "      <th>housing_no</th>\n",
       "      <th>housing_unknown</th>\n",
       "      <th>housing_yes</th>\n",
       "    </tr>\n",
       "  </thead>\n",
       "  <tbody>\n",
       "    <tr>\n",
       "      <th>0</th>\n",
       "      <td>49</td>\n",
       "      <td>no</td>\n",
       "      <td>no</td>\n",
       "      <td>10.0</td>\n",
       "      <td>4.0</td>\n",
       "      <td>35</td>\n",
       "      <td>1</td>\n",
       "      <td>999</td>\n",
       "      <td>1</td>\n",
       "      <td>-0.1</td>\n",
       "      <td>...</td>\n",
       "      <td>0</td>\n",
       "      <td>0</td>\n",
       "      <td>1</td>\n",
       "      <td>0</td>\n",
       "      <td>0</td>\n",
       "      <td>1</td>\n",
       "      <td>0</td>\n",
       "      <td>0</td>\n",
       "      <td>0</td>\n",
       "      <td>1</td>\n",
       "    </tr>\n",
       "    <tr>\n",
       "      <th>1</th>\n",
       "      <td>30</td>\n",
       "      <td>no</td>\n",
       "      <td>yes</td>\n",
       "      <td>10.0</td>\n",
       "      <td>4.0</td>\n",
       "      <td>26</td>\n",
       "      <td>10</td>\n",
       "      <td>999</td>\n",
       "      <td>0</td>\n",
       "      <td>-0.1</td>\n",
       "      <td>...</td>\n",
       "      <td>1</td>\n",
       "      <td>0</td>\n",
       "      <td>0</td>\n",
       "      <td>1</td>\n",
       "      <td>0</td>\n",
       "      <td>0</td>\n",
       "      <td>1</td>\n",
       "      <td>0</td>\n",
       "      <td>0</td>\n",
       "      <td>1</td>\n",
       "    </tr>\n",
       "    <tr>\n",
       "      <th>2</th>\n",
       "      <td>52</td>\n",
       "      <td>no</td>\n",
       "      <td>no</td>\n",
       "      <td>10.0</td>\n",
       "      <td>4.0</td>\n",
       "      <td>102</td>\n",
       "      <td>1</td>\n",
       "      <td>999</td>\n",
       "      <td>0</td>\n",
       "      <td>-0.1</td>\n",
       "      <td>...</td>\n",
       "      <td>0</td>\n",
       "      <td>0</td>\n",
       "      <td>0</td>\n",
       "      <td>1</td>\n",
       "      <td>0</td>\n",
       "      <td>1</td>\n",
       "      <td>0</td>\n",
       "      <td>0</td>\n",
       "      <td>0</td>\n",
       "      <td>1</td>\n",
       "    </tr>\n",
       "    <tr>\n",
       "      <th>3</th>\n",
       "      <td>31</td>\n",
       "      <td>no</td>\n",
       "      <td>no</td>\n",
       "      <td>10.0</td>\n",
       "      <td>4.0</td>\n",
       "      <td>100</td>\n",
       "      <td>2</td>\n",
       "      <td>999</td>\n",
       "      <td>0</td>\n",
       "      <td>-0.1</td>\n",
       "      <td>...</td>\n",
       "      <td>0</td>\n",
       "      <td>0</td>\n",
       "      <td>0</td>\n",
       "      <td>1</td>\n",
       "      <td>0</td>\n",
       "      <td>1</td>\n",
       "      <td>0</td>\n",
       "      <td>1</td>\n",
       "      <td>0</td>\n",
       "      <td>0</td>\n",
       "    </tr>\n",
       "    <tr>\n",
       "      <th>4</th>\n",
       "      <td>49</td>\n",
       "      <td>no</td>\n",
       "      <td>no</td>\n",
       "      <td>10.0</td>\n",
       "      <td>4.0</td>\n",
       "      <td>164</td>\n",
       "      <td>1</td>\n",
       "      <td>999</td>\n",
       "      <td>0</td>\n",
       "      <td>-0.1</td>\n",
       "      <td>...</td>\n",
       "      <td>0</td>\n",
       "      <td>0</td>\n",
       "      <td>0</td>\n",
       "      <td>1</td>\n",
       "      <td>0</td>\n",
       "      <td>1</td>\n",
       "      <td>0</td>\n",
       "      <td>0</td>\n",
       "      <td>0</td>\n",
       "      <td>1</td>\n",
       "    </tr>\n",
       "    <tr>\n",
       "      <th>...</th>\n",
       "      <td>...</td>\n",
       "      <td>...</td>\n",
       "      <td>...</td>\n",
       "      <td>...</td>\n",
       "      <td>...</td>\n",
       "      <td>...</td>\n",
       "      <td>...</td>\n",
       "      <td>...</td>\n",
       "      <td>...</td>\n",
       "      <td>...</td>\n",
       "      <td>...</td>\n",
       "      <td>...</td>\n",
       "      <td>...</td>\n",
       "      <td>...</td>\n",
       "      <td>...</td>\n",
       "      <td>...</td>\n",
       "      <td>...</td>\n",
       "      <td>...</td>\n",
       "      <td>...</td>\n",
       "      <td>...</td>\n",
       "      <td>...</td>\n",
       "    </tr>\n",
       "    <tr>\n",
       "      <th>41230</th>\n",
       "      <td>73</td>\n",
       "      <td>no</td>\n",
       "      <td>no</td>\n",
       "      <td>10.0</td>\n",
       "      <td>4.0</td>\n",
       "      <td>334</td>\n",
       "      <td>1</td>\n",
       "      <td>999</td>\n",
       "      <td>0</td>\n",
       "      <td>-1.1</td>\n",
       "      <td>...</td>\n",
       "      <td>0</td>\n",
       "      <td>0</td>\n",
       "      <td>0</td>\n",
       "      <td>1</td>\n",
       "      <td>0</td>\n",
       "      <td>1</td>\n",
       "      <td>0</td>\n",
       "      <td>0</td>\n",
       "      <td>0</td>\n",
       "      <td>1</td>\n",
       "    </tr>\n",
       "    <tr>\n",
       "      <th>41231</th>\n",
       "      <td>46</td>\n",
       "      <td>no</td>\n",
       "      <td>no</td>\n",
       "      <td>10.0</td>\n",
       "      <td>4.0</td>\n",
       "      <td>383</td>\n",
       "      <td>1</td>\n",
       "      <td>999</td>\n",
       "      <td>0</td>\n",
       "      <td>-1.1</td>\n",
       "      <td>...</td>\n",
       "      <td>0</td>\n",
       "      <td>0</td>\n",
       "      <td>0</td>\n",
       "      <td>1</td>\n",
       "      <td>0</td>\n",
       "      <td>1</td>\n",
       "      <td>0</td>\n",
       "      <td>1</td>\n",
       "      <td>0</td>\n",
       "      <td>0</td>\n",
       "    </tr>\n",
       "    <tr>\n",
       "      <th>41232</th>\n",
       "      <td>56</td>\n",
       "      <td>no</td>\n",
       "      <td>no</td>\n",
       "      <td>10.0</td>\n",
       "      <td>4.0</td>\n",
       "      <td>189</td>\n",
       "      <td>2</td>\n",
       "      <td>999</td>\n",
       "      <td>0</td>\n",
       "      <td>-1.1</td>\n",
       "      <td>...</td>\n",
       "      <td>1</td>\n",
       "      <td>0</td>\n",
       "      <td>0</td>\n",
       "      <td>1</td>\n",
       "      <td>0</td>\n",
       "      <td>1</td>\n",
       "      <td>0</td>\n",
       "      <td>0</td>\n",
       "      <td>0</td>\n",
       "      <td>1</td>\n",
       "    </tr>\n",
       "    <tr>\n",
       "      <th>41233</th>\n",
       "      <td>44</td>\n",
       "      <td>no</td>\n",
       "      <td>no</td>\n",
       "      <td>10.0</td>\n",
       "      <td>4.0</td>\n",
       "      <td>442</td>\n",
       "      <td>1</td>\n",
       "      <td>999</td>\n",
       "      <td>0</td>\n",
       "      <td>-1.1</td>\n",
       "      <td>...</td>\n",
       "      <td>0</td>\n",
       "      <td>0</td>\n",
       "      <td>0</td>\n",
       "      <td>1</td>\n",
       "      <td>0</td>\n",
       "      <td>1</td>\n",
       "      <td>0</td>\n",
       "      <td>1</td>\n",
       "      <td>0</td>\n",
       "      <td>0</td>\n",
       "    </tr>\n",
       "    <tr>\n",
       "      <th>41234</th>\n",
       "      <td>74</td>\n",
       "      <td>no</td>\n",
       "      <td>no</td>\n",
       "      <td>10.0</td>\n",
       "      <td>4.0</td>\n",
       "      <td>239</td>\n",
       "      <td>3</td>\n",
       "      <td>999</td>\n",
       "      <td>1</td>\n",
       "      <td>-1.1</td>\n",
       "      <td>...</td>\n",
       "      <td>0</td>\n",
       "      <td>0</td>\n",
       "      <td>1</td>\n",
       "      <td>0</td>\n",
       "      <td>0</td>\n",
       "      <td>1</td>\n",
       "      <td>0</td>\n",
       "      <td>0</td>\n",
       "      <td>0</td>\n",
       "      <td>1</td>\n",
       "    </tr>\n",
       "  </tbody>\n",
       "</table>\n",
       "<p>41235 rows × 45 columns</p>\n",
       "</div>"
      ],
      "text/plain": [
       "       age default loan  month  day_of_week  duration  campaign  pdays  \\\n",
       "0       49      no   no   10.0          4.0        35         1    999   \n",
       "1       30      no  yes   10.0          4.0        26        10    999   \n",
       "2       52      no   no   10.0          4.0       102         1    999   \n",
       "3       31      no   no   10.0          4.0       100         2    999   \n",
       "4       49      no   no   10.0          4.0       164         1    999   \n",
       "...    ...     ...  ...    ...          ...       ...       ...    ...   \n",
       "41230   73      no   no   10.0          4.0       334         1    999   \n",
       "41231   46      no   no   10.0          4.0       383         1    999   \n",
       "41232   56      no   no   10.0          4.0       189         2    999   \n",
       "41233   44      no   no   10.0          4.0       442         1    999   \n",
       "41234   74      no   no   10.0          4.0       239         3    999   \n",
       "\n",
       "       previous  emp.var.rate  ...  education_university.degree  \\\n",
       "0             1          -0.1  ...                            0   \n",
       "1             0          -0.1  ...                            1   \n",
       "2             0          -0.1  ...                            0   \n",
       "3             0          -0.1  ...                            0   \n",
       "4             0          -0.1  ...                            0   \n",
       "...         ...           ...  ...                          ...   \n",
       "41230         0          -1.1  ...                            0   \n",
       "41231         0          -1.1  ...                            0   \n",
       "41232         0          -1.1  ...                            1   \n",
       "41233         0          -1.1  ...                            0   \n",
       "41234         1          -1.1  ...                            0   \n",
       "\n",
       "       education_unknown  poutcome_failure  poutcome_nonexistent  \\\n",
       "0                      0                 1                     0   \n",
       "1                      0                 0                     1   \n",
       "2                      0                 0                     1   \n",
       "3                      0                 0                     1   \n",
       "4                      0                 0                     1   \n",
       "...                  ...               ...                   ...   \n",
       "41230                  0                 0                     1   \n",
       "41231                  0                 0                     1   \n",
       "41232                  0                 0                     1   \n",
       "41233                  0                 0                     1   \n",
       "41234                  0                 1                     0   \n",
       "\n",
       "      poutcome_success  contact_cellular  contact_telephone  housing_no  \\\n",
       "0                    0                 1                  0           0   \n",
       "1                    0                 0                  1           0   \n",
       "2                    0                 1                  0           0   \n",
       "3                    0                 1                  0           1   \n",
       "4                    0                 1                  0           0   \n",
       "...                ...               ...                ...         ...   \n",
       "41230                0                 1                  0           0   \n",
       "41231                0                 1                  0           1   \n",
       "41232                0                 1                  0           0   \n",
       "41233                0                 1                  0           1   \n",
       "41234                0                 1                  0           0   \n",
       "\n",
       "       housing_unknown  housing_yes  \n",
       "0                    0            1  \n",
       "1                    0            1  \n",
       "2                    0            1  \n",
       "3                    0            0  \n",
       "4                    0            1  \n",
       "...                ...          ...  \n",
       "41230                0            1  \n",
       "41231                0            0  \n",
       "41232                0            1  \n",
       "41233                0            0  \n",
       "41234                0            1  \n",
       "\n",
       "[41235 rows x 45 columns]"
      ]
     },
     "execution_count": 148,
     "metadata": {},
     "output_type": "execute_result"
    }
   ],
   "source": [
    "df"
   ]
  },
  {
   "cell_type": "markdown",
   "id": "9035bd3e",
   "metadata": {},
   "source": [
    "##### loan"
   ]
  },
  {
   "cell_type": "code",
   "execution_count": 149,
   "id": "4c42ee8f",
   "metadata": {},
   "outputs": [
    {
     "data": {
      "text/plain": [
       "no         33992\n",
       "yes         6253\n",
       "unknown      990\n",
       "Name: loan, dtype: int64"
      ]
     },
     "execution_count": 149,
     "metadata": {},
     "output_type": "execute_result"
    }
   ],
   "source": [
    "df_root['loan'].value_counts()"
   ]
  },
  {
   "cell_type": "code",
   "execution_count": 150,
   "id": "9c0da601",
   "metadata": {},
   "outputs": [],
   "source": [
    "df['loan'] = df['loan'].apply(lambda x: 'yes' if x == 'unknown' else x)"
   ]
  },
  {
   "cell_type": "code",
   "execution_count": 151,
   "id": "c9d08a0f",
   "metadata": {},
   "outputs": [],
   "source": [
    "df['loan'] = df['loan'].apply(lambda x: 1 if x == 'yes' else 0)"
   ]
  },
  {
   "cell_type": "code",
   "execution_count": 152,
   "id": "36a1bfee",
   "metadata": {},
   "outputs": [
    {
     "data": {
      "text/plain": [
       "0    33992\n",
       "1     7243\n",
       "Name: loan, dtype: int64"
      ]
     },
     "execution_count": 152,
     "metadata": {},
     "output_type": "execute_result"
    }
   ],
   "source": [
    "df['loan'].value_counts()"
   ]
  },
  {
   "cell_type": "markdown",
   "id": "992c0c36",
   "metadata": {},
   "source": [
    "##### y (churn)"
   ]
  },
  {
   "cell_type": "code",
   "execution_count": 153,
   "id": "eda95f75",
   "metadata": {},
   "outputs": [],
   "source": [
    "df['y'] = df['y'].apply(lambda x: 1 if x == 'yes' else 0)"
   ]
  },
  {
   "cell_type": "code",
   "execution_count": 154,
   "id": "719b5c4a",
   "metadata": {
    "scrolled": true
   },
   "outputs": [
    {
     "data": {
      "text/plain": [
       "Index(['age', 'default', 'loan', 'month', 'day_of_week', 'duration',\n",
       "       'campaign', 'pdays', 'previous', 'emp.var.rate', 'cons.price.idx',\n",
       "       'cons.conf.idx', 'euribor3m', 'nr.employed', 'y', 'job_admin.',\n",
       "       'job_blue-collar', 'job_entrepreneur', 'job_housemaid',\n",
       "       'job_management', 'job_retired', 'job_self-employed', 'job_services',\n",
       "       'job_student', 'job_technician', 'job_unemployed', 'job_unknown',\n",
       "       'marital_divorced', 'marital_married', 'marital_single',\n",
       "       'marital_unknown', 'education_basic', 'education_high.school',\n",
       "       'education_illiterate', 'education_professional.course',\n",
       "       'education_university.degree', 'education_unknown', 'poutcome_failure',\n",
       "       'poutcome_nonexistent', 'poutcome_success', 'contact_cellular',\n",
       "       'contact_telephone', 'housing_no', 'housing_unknown', 'housing_yes'],\n",
       "      dtype='object')"
      ]
     },
     "execution_count": 154,
     "metadata": {},
     "output_type": "execute_result"
    }
   ],
   "source": [
    "df.columns"
   ]
  },
  {
   "cell_type": "markdown",
   "id": "3262f652",
   "metadata": {},
   "source": [
    "##### default"
   ]
  },
  {
   "cell_type": "code",
   "execution_count": 155,
   "id": "0d9fd019",
   "metadata": {},
   "outputs": [
    {
     "data": {
      "text/plain": [
       "no         32619\n",
       "unknown     8613\n",
       "yes            3\n",
       "Name: default, dtype: int64"
      ]
     },
     "execution_count": 155,
     "metadata": {},
     "output_type": "execute_result"
    }
   ],
   "source": [
    "df_root['default'].value_counts()"
   ]
  },
  {
   "cell_type": "code",
   "execution_count": 156,
   "id": "40ab9a7e",
   "metadata": {},
   "outputs": [],
   "source": [
    "df['default'] = df['default'].apply(lambda x: 'yes' if x == 'unknown' else x)"
   ]
  },
  {
   "cell_type": "code",
   "execution_count": 157,
   "id": "6a943883",
   "metadata": {},
   "outputs": [],
   "source": [
    "df['default'] = df['default'].apply(lambda x: 1 if x == 'yes' else 0)"
   ]
  },
  {
   "cell_type": "code",
   "execution_count": 158,
   "id": "400c150e",
   "metadata": {
    "scrolled": true
   },
   "outputs": [
    {
     "data": {
      "text/plain": [
       "0    32619\n",
       "1     8616\n",
       "Name: default, dtype: int64"
      ]
     },
     "execution_count": 158,
     "metadata": {},
     "output_type": "execute_result"
    }
   ],
   "source": [
    "df['default'].value_counts()"
   ]
  },
  {
   "cell_type": "markdown",
   "id": "902624f9",
   "metadata": {},
   "source": [
    "#### Modeling"
   ]
  },
  {
   "cell_type": "markdown",
   "id": "932dccf2",
   "metadata": {},
   "source": [
    "##### Decision tree model"
   ]
  },
  {
   "cell_type": "code",
   "execution_count": 159,
   "id": "d79f154b",
   "metadata": {},
   "outputs": [],
   "source": [
    "def decision_tree_before_tuning(X_train, y_train, X_validation):\n",
    "    dt_model = DecisionTreeClassifier()   \n",
    "    dt_model.fit(X_train, y_train)\n",
    "    y_forecast = dt_model.predict(X_test)\n",
    "    return y_forecast"
   ]
  },
  {
   "cell_type": "code",
   "execution_count": 160,
   "id": "7c65d447",
   "metadata": {},
   "outputs": [],
   "source": [
    "def get_best_param_AFTER_tuning(X_train, y_train):\n",
    "    from sklearn.tree import DecisionTreeClassifier\n",
    "    from sklearn.model_selection import GridSearchCV\n",
    "    clf = GridSearchCV(DecisionTreeClassifier(),\\\n",
    "                       {'criterion':['gini','entropy'],\\\n",
    "                        'splitter':['best','random'],\\\n",
    "                        'max_depth':[i for i in range(5,50,10)],\\\n",
    "                        'min_samples_split':[i for i in range(2,10,4)],\\\n",
    "                        'min_samples_leaf':[i for i in range(1,5,2)]})\n",
    "    clf.fit(X_train, y_train)\n",
    "    return clf.best_params_"
   ]
  },
  {
   "cell_type": "code",
   "execution_count": 161,
   "id": "7db1b8c0",
   "metadata": {},
   "outputs": [],
   "source": [
    "def decision_tree_after_tuning(X_train, y_train, X_test):\n",
    "    dt_model = DecisionTreeClassifier(criterion = 'gini', max_depth = 5,\\\n",
    "                                       min_samples_leaf = 3,min_samples_split = 6,\\\n",
    "                                       splitter= 'best')   \n",
    "    dt_model.fit(X_train,y_train)\n",
    "    y_forecast = dt_model.predict(X_test)\n",
    "    return y_forecast"
   ]
  },
  {
   "cell_type": "code",
   "execution_count": 162,
   "id": "a1e625af",
   "metadata": {},
   "outputs": [],
   "source": [
    "#get_best_param_AFTER_tuning(X_train, y_train)"
   ]
  },
  {
   "cell_type": "markdown",
   "id": "7328379e",
   "metadata": {},
   "source": [
    "##### Random Forest"
   ]
  },
  {
   "cell_type": "code",
   "execution_count": 163,
   "id": "a8087bf0",
   "metadata": {},
   "outputs": [],
   "source": [
    "def random_forest(X_train, y_train, X_test):\n",
    "    rf_model = RandomForestClassifier(random_state = 0)\n",
    "    rf_model.fit(X_train, y_train)\n",
    "    y_forecast = rf_model.predict(X_test)\n",
    "    return y_forecast"
   ]
  },
  {
   "cell_type": "markdown",
   "id": "941134f0",
   "metadata": {},
   "source": [
    "##### Gradient Boosting"
   ]
  },
  {
   "cell_type": "code",
   "execution_count": 164,
   "id": "316f6886",
   "metadata": {},
   "outputs": [],
   "source": [
    "def gradient_boosting(X_train, y_train, X_test):\n",
    "    gb_model = GradientBoostingClassifier()\n",
    "    gb_model.fit(X_train, y_train)\n",
    "    y_forecast = gb_model.predict(X_test)\n",
    "    return y_forecast"
   ]
  },
  {
   "cell_type": "markdown",
   "id": "5658efcf",
   "metadata": {},
   "source": [
    "#### Result of Models"
   ]
  },
  {
   "cell_type": "code",
   "execution_count": 165,
   "id": "fe26f661",
   "metadata": {},
   "outputs": [],
   "source": [
    "def metrics(y_forecast, y_test):\n",
    "    print('Accurancy:', accuracy_score(y_test, y_forecast))\n",
    "    print('precision:', precision_score(y_test,y_forecast, average = 'weighted'))\n",
    "    print('Recall:', recall_score(y_test,y_forecast, average = 'weighted'))\n",
    "    print('f1:', f1_score(y_test,y_forecast, average = 'weighted'))"
   ]
  },
  {
   "cell_type": "markdown",
   "id": "7e2496d8",
   "metadata": {},
   "source": [
    "##### Result 50-50"
   ]
  },
  {
   "cell_type": "markdown",
   "id": "99608f71",
   "metadata": {},
   "source": [
    "###### Splitting data"
   ]
  },
  {
   "cell_type": "code",
   "execution_count": 166,
   "id": "659ddfdf",
   "metadata": {
    "scrolled": false
   },
   "outputs": [],
   "source": [
    "#SPLIT INTO TRAIN AND TEST SETS\n",
    "# select independent variables\n",
    "\n",
    "X = df.drop('default', axis = 1).fillna(0)\n",
    "y = df['default']\n",
    "X_train, X_test, y_train, y_test =\\\n",
    "train_test_split(X, y, test_size=0.5, random_state = 99)"
   ]
  },
  {
   "cell_type": "code",
   "execution_count": 167,
   "id": "0b112c79",
   "metadata": {},
   "outputs": [
    {
     "name": "stdout",
     "output_type": "stream",
     "text": [
      "Result of Decision Tree BEFORE tuning\n",
      "Accurancy: 0.7289261810068872\n",
      "precision: 0.7377329851513401\n",
      "Recall: 0.7289261810068872\n",
      "f1: 0.7330908562619689\n"
     ]
    }
   ],
   "source": [
    "print('Result of Decision Tree BEFORE tuning')\n",
    "metrics(decision_tree_before_tuning(X_train, y_train, X_test), y_test)"
   ]
  },
  {
   "cell_type": "code",
   "execution_count": 168,
   "id": "effcfe28",
   "metadata": {},
   "outputs": [
    {
     "name": "stdout",
     "output_type": "stream",
     "text": [
      "Result of Decision Tree AFTER tuning\n",
      "Accurancy: 0.7914928703074983\n",
      "precision: 0.7455906945691918\n",
      "Recall: 0.7914928703074983\n",
      "f1: 0.7407903533347326\n"
     ]
    }
   ],
   "source": [
    "print('Result of Decision Tree AFTER tuning')\n",
    "metrics(decision_tree_after_tuning(X_train, y_train, X_test), y_test)"
   ]
  },
  {
   "cell_type": "code",
   "execution_count": 169,
   "id": "c4cec152",
   "metadata": {
    "scrolled": false
   },
   "outputs": [
    {
     "name": "stdout",
     "output_type": "stream",
     "text": [
      "Result of Random Forest BEFORE tuning\n",
      "Accurancy: 0.7960034920942866\n",
      "precision: 0.762376858211163\n",
      "Recall: 0.7960034920942866\n",
      "f1: 0.7648863689774338\n"
     ]
    }
   ],
   "source": [
    "print('Result of Random Forest BEFORE tuning')\n",
    "metrics(random_forest(X_train, y_train, X_test), y_test)"
   ]
  },
  {
   "cell_type": "code",
   "execution_count": 170,
   "id": "22ae619d",
   "metadata": {},
   "outputs": [
    {
     "name": "stdout",
     "output_type": "stream",
     "text": [
      "Result of Gradient Boosting BEFORE turning\n",
      "Accurancy: 0.7938694344747308\n",
      "precision: 0.7546184836419445\n",
      "Recall: 0.7938694344747308\n",
      "f1: 0.7538260169692393\n"
     ]
    }
   ],
   "source": [
    "print('Result of Gradient Boosting BEFORE turning')\n",
    "metrics(gradient_boosting(X_train, y_train, X_test), y_test)"
   ]
  },
  {
   "cell_type": "markdown",
   "id": "7c922c1e",
   "metadata": {},
   "source": [
    "##### Result 70-30"
   ]
  },
  {
   "cell_type": "markdown",
   "id": "a688ff77",
   "metadata": {},
   "source": [
    "###### Splitting data"
   ]
  },
  {
   "cell_type": "code",
   "execution_count": 171,
   "id": "80db42e7",
   "metadata": {},
   "outputs": [],
   "source": [
    "#SPLIT INTO TRAIN AND TEST SETS\n",
    "# select independent variables\n",
    "\n",
    "X = df.drop('default', axis = 1).fillna(0)\n",
    "y = df['default']\n",
    "X_train, X_test, y_train, y_test =\\\n",
    "train_test_split(X, y, test_size=0.3, random_state = 99)"
   ]
  },
  {
   "cell_type": "code",
   "execution_count": 172,
   "id": "6b8fb5a7",
   "metadata": {},
   "outputs": [
    {
     "name": "stdout",
     "output_type": "stream",
     "text": [
      "Result of Decision Tree BEFORE tuning\n",
      "Accurancy: 0.7391480074367472\n",
      "precision: 0.7464165384327962\n",
      "Recall: 0.7391480074367472\n",
      "f1: 0.7426015861939436\n"
     ]
    }
   ],
   "source": [
    "print('Result of Decision Tree BEFORE tuning')\n",
    "metrics(decision_tree_before_tuning(X_train, y_train, X_test), y_test)"
   ]
  },
  {
   "cell_type": "code",
   "execution_count": 173,
   "id": "3826283c",
   "metadata": {},
   "outputs": [
    {
     "name": "stdout",
     "output_type": "stream",
     "text": [
      "Result of Decision Tree AFTER tuning\n",
      "Accurancy: 0.7920944143561556\n",
      "precision: 0.7509661341990848\n",
      "Recall: 0.7920944143561556\n",
      "f1: 0.7510177387885522\n"
     ]
    }
   ],
   "source": [
    "print('Result of Decision Tree AFTER tuning')\n",
    "metrics(decision_tree_after_tuning(X_train, y_train, X_test), y_test)"
   ]
  },
  {
   "cell_type": "code",
   "execution_count": 174,
   "id": "bba9524e",
   "metadata": {},
   "outputs": [
    {
     "name": "stdout",
     "output_type": "stream",
     "text": [
      "Result of Random Forest BEFORE tuning\n",
      "Accurancy: 0.7970253011074286\n",
      "precision: 0.7635855814875899\n",
      "Recall: 0.7970253011074286\n",
      "f1: 0.7655122334004568\n"
     ]
    }
   ],
   "source": [
    "print('Result of Random Forest BEFORE tuning')\n",
    "metrics(random_forest(X_train, y_train, X_test), y_test)"
   ]
  },
  {
   "cell_type": "code",
   "execution_count": 175,
   "id": "5f32e615",
   "metadata": {},
   "outputs": [
    {
     "name": "stdout",
     "output_type": "stream",
     "text": [
      "Result of Gradient Boosting BEFORE turning\n",
      "Accurancy: 0.7939536011640126\n",
      "precision: 0.7539105374810038\n",
      "Recall: 0.7939536011640126\n",
      "f1: 0.7521894047678434\n"
     ]
    }
   ],
   "source": [
    "print('Result of Gradient Boosting BEFORE turning')\n",
    "metrics(gradient_boosting(X_train, y_train, X_test), y_test)"
   ]
  },
  {
   "cell_type": "markdown",
   "id": "e6872dbc",
   "metadata": {},
   "source": [
    "##### Result 80-20"
   ]
  },
  {
   "cell_type": "markdown",
   "id": "35c69cf5",
   "metadata": {},
   "source": [
    "###### Splitting data"
   ]
  },
  {
   "cell_type": "code",
   "execution_count": 176,
   "id": "31daba20",
   "metadata": {},
   "outputs": [],
   "source": [
    "X = df.drop('default', axis = 1).fillna(0)\n",
    "y = df['default']\n",
    "X_train, X_test, y_train, y_test =\\\n",
    "train_test_split(X, y, test_size=0.2, random_state = 99)"
   ]
  },
  {
   "cell_type": "code",
   "execution_count": 177,
   "id": "8a4e1287",
   "metadata": {},
   "outputs": [
    {
     "name": "stdout",
     "output_type": "stream",
     "text": [
      "Result of Decision Tree BEFORE tuning\n",
      "Accurancy: 0.74693828058688\n",
      "precision: 0.7483644857521664\n",
      "Recall: 0.74693828058688\n",
      "f1: 0.7476434399011755\n"
     ]
    }
   ],
   "source": [
    "print('Result of Decision Tree BEFORE tuning')\n",
    "metrics(decision_tree_before_tuning(X_train, y_train, X_test), y_test)"
   ]
  },
  {
   "cell_type": "code",
   "execution_count": 178,
   "id": "df6bd55a",
   "metadata": {},
   "outputs": [
    {
     "name": "stdout",
     "output_type": "stream",
     "text": [
      "Result of Decision Tree AFTER tuning\n",
      "Accurancy: 0.7903480053352734\n",
      "precision: 0.7507829854817933\n",
      "Recall: 0.7903480053352734\n",
      "f1: 0.7507676744346885\n"
     ]
    }
   ],
   "source": [
    "print('Result of Decision Tree AFTER tuning')\n",
    "metrics(decision_tree_after_tuning(X_train, y_train, X_test), y_test)"
   ]
  },
  {
   "cell_type": "code",
   "execution_count": 179,
   "id": "492c606f",
   "metadata": {},
   "outputs": [
    {
     "name": "stdout",
     "output_type": "stream",
     "text": [
      "Result of Random Forest BEFORE tuning\n",
      "Accurancy: 0.8015035770583242\n",
      "precision: 0.7716741682694355\n",
      "Recall: 0.8015035770583242\n",
      "f1: 0.7701072782163917\n"
     ]
    }
   ],
   "source": [
    "print('Result of Random Forest BEFORE tuning')\n",
    "metrics(random_forest(X_train, y_train, X_test), y_test)"
   ]
  },
  {
   "cell_type": "code",
   "execution_count": 180,
   "id": "0e024605",
   "metadata": {},
   "outputs": [
    {
     "name": "stdout",
     "output_type": "stream",
     "text": [
      "Result of Gradient Boosting BEFORE turning\n",
      "Accurancy: 0.7933794106947981\n",
      "precision: 0.7543864739699405\n",
      "Recall: 0.7933794106947981\n",
      "f1: 0.7490702985562471\n"
     ]
    }
   ],
   "source": [
    "print('Result of Gradient Boosting BEFORE turning')\n",
    "metrics(gradient_boosting(X_train, y_train, X_test), y_test)"
   ]
  },
  {
   "cell_type": "markdown",
   "id": "6e252adf",
   "metadata": {},
   "source": [
    "#### Prediction Probability of default (50-50)"
   ]
  },
  {
   "cell_type": "code",
   "execution_count": 223,
   "id": "0cc5846b",
   "metadata": {},
   "outputs": [],
   "source": [
    "X = df.drop('default', axis = 1).fillna(0)\n",
    "y = df['default']\n",
    "X_train, X_test, y_train, y_test =\\\n",
    "train_test_split(X, y, test_size=0.5, random_state = 99)"
   ]
  },
  {
   "cell_type": "code",
   "execution_count": 224,
   "id": "c3ee7dd1",
   "metadata": {},
   "outputs": [
    {
     "data": {
      "text/html": [
       "<style>#sk-container-id-6 {color: black;background-color: white;}#sk-container-id-6 pre{padding: 0;}#sk-container-id-6 div.sk-toggleable {background-color: white;}#sk-container-id-6 label.sk-toggleable__label {cursor: pointer;display: block;width: 100%;margin-bottom: 0;padding: 0.3em;box-sizing: border-box;text-align: center;}#sk-container-id-6 label.sk-toggleable__label-arrow:before {content: \"▸\";float: left;margin-right: 0.25em;color: #696969;}#sk-container-id-6 label.sk-toggleable__label-arrow:hover:before {color: black;}#sk-container-id-6 div.sk-estimator:hover label.sk-toggleable__label-arrow:before {color: black;}#sk-container-id-6 div.sk-toggleable__content {max-height: 0;max-width: 0;overflow: hidden;text-align: left;background-color: #f0f8ff;}#sk-container-id-6 div.sk-toggleable__content pre {margin: 0.2em;color: black;border-radius: 0.25em;background-color: #f0f8ff;}#sk-container-id-6 input.sk-toggleable__control:checked~div.sk-toggleable__content {max-height: 200px;max-width: 100%;overflow: auto;}#sk-container-id-6 input.sk-toggleable__control:checked~label.sk-toggleable__label-arrow:before {content: \"▾\";}#sk-container-id-6 div.sk-estimator input.sk-toggleable__control:checked~label.sk-toggleable__label {background-color: #d4ebff;}#sk-container-id-6 div.sk-label input.sk-toggleable__control:checked~label.sk-toggleable__label {background-color: #d4ebff;}#sk-container-id-6 input.sk-hidden--visually {border: 0;clip: rect(1px 1px 1px 1px);clip: rect(1px, 1px, 1px, 1px);height: 1px;margin: -1px;overflow: hidden;padding: 0;position: absolute;width: 1px;}#sk-container-id-6 div.sk-estimator {font-family: monospace;background-color: #f0f8ff;border: 1px dotted black;border-radius: 0.25em;box-sizing: border-box;margin-bottom: 0.5em;}#sk-container-id-6 div.sk-estimator:hover {background-color: #d4ebff;}#sk-container-id-6 div.sk-parallel-item::after {content: \"\";width: 100%;border-bottom: 1px solid gray;flex-grow: 1;}#sk-container-id-6 div.sk-label:hover label.sk-toggleable__label {background-color: #d4ebff;}#sk-container-id-6 div.sk-serial::before {content: \"\";position: absolute;border-left: 1px solid gray;box-sizing: border-box;top: 0;bottom: 0;left: 50%;z-index: 0;}#sk-container-id-6 div.sk-serial {display: flex;flex-direction: column;align-items: center;background-color: white;padding-right: 0.2em;padding-left: 0.2em;position: relative;}#sk-container-id-6 div.sk-item {position: relative;z-index: 1;}#sk-container-id-6 div.sk-parallel {display: flex;align-items: stretch;justify-content: center;background-color: white;position: relative;}#sk-container-id-6 div.sk-item::before, #sk-container-id-6 div.sk-parallel-item::before {content: \"\";position: absolute;border-left: 1px solid gray;box-sizing: border-box;top: 0;bottom: 0;left: 50%;z-index: -1;}#sk-container-id-6 div.sk-parallel-item {display: flex;flex-direction: column;z-index: 1;position: relative;background-color: white;}#sk-container-id-6 div.sk-parallel-item:first-child::after {align-self: flex-end;width: 50%;}#sk-container-id-6 div.sk-parallel-item:last-child::after {align-self: flex-start;width: 50%;}#sk-container-id-6 div.sk-parallel-item:only-child::after {width: 0;}#sk-container-id-6 div.sk-dashed-wrapped {border: 1px dashed gray;margin: 0 0.4em 0.5em 0.4em;box-sizing: border-box;padding-bottom: 0.4em;background-color: white;}#sk-container-id-6 div.sk-label label {font-family: monospace;font-weight: bold;display: inline-block;line-height: 1.2em;}#sk-container-id-6 div.sk-label-container {text-align: center;}#sk-container-id-6 div.sk-container {/* jupyter's `normalize.less` sets `[hidden] { display: none; }` but bootstrap.min.css set `[hidden] { display: none !important; }` so we also need the `!important` here to be able to override the default hidden behavior on the sphinx rendered scikit-learn.org. See: https://github.com/scikit-learn/scikit-learn/issues/21755 */display: inline-block !important;position: relative;}#sk-container-id-6 div.sk-text-repr-fallback {display: none;}</style><div id=\"sk-container-id-6\" class=\"sk-top-container\"><div class=\"sk-text-repr-fallback\"><pre>RandomForestClassifier()</pre><b>In a Jupyter environment, please rerun this cell to show the HTML representation or trust the notebook. <br />On GitHub, the HTML representation is unable to render, please try loading this page with nbviewer.org.</b></div><div class=\"sk-container\" hidden><div class=\"sk-item\"><div class=\"sk-estimator sk-toggleable\"><input class=\"sk-toggleable__control sk-hidden--visually\" id=\"sk-estimator-id-6\" type=\"checkbox\" checked><label for=\"sk-estimator-id-6\" class=\"sk-toggleable__label sk-toggleable__label-arrow\">RandomForestClassifier</label><div class=\"sk-toggleable__content\"><pre>RandomForestClassifier()</pre></div></div></div></div></div>"
      ],
      "text/plain": [
       "RandomForestClassifier()"
      ]
     },
     "execution_count": 224,
     "metadata": {},
     "output_type": "execute_result"
    }
   ],
   "source": [
    "#from sklearn.model_selection import cross_val_score\n",
    "rf_model = RandomForestClassifier()\n",
    "rf_model.fit(X_train, np.ravel(y_train))"
   ]
  },
  {
   "cell_type": "code",
   "execution_count": 225,
   "id": "0cbd7d5f",
   "metadata": {},
   "outputs": [
    {
     "data": {
      "text/html": [
       "<div>\n",
       "<style scoped>\n",
       "    .dataframe tbody tr th:only-of-type {\n",
       "        vertical-align: middle;\n",
       "    }\n",
       "\n",
       "    .dataframe tbody tr th {\n",
       "        vertical-align: top;\n",
       "    }\n",
       "\n",
       "    .dataframe thead th {\n",
       "        text-align: right;\n",
       "    }\n",
       "</style>\n",
       "<table border=\"1\" class=\"dataframe\">\n",
       "  <thead>\n",
       "    <tr style=\"text-align: right;\">\n",
       "      <th></th>\n",
       "      <th>age</th>\n",
       "      <th>loan</th>\n",
       "      <th>month</th>\n",
       "      <th>day_of_week</th>\n",
       "      <th>duration</th>\n",
       "      <th>campaign</th>\n",
       "      <th>pdays</th>\n",
       "      <th>previous</th>\n",
       "      <th>emp.var.rate</th>\n",
       "      <th>cons.price.idx</th>\n",
       "      <th>...</th>\n",
       "      <th>education_university.degree</th>\n",
       "      <th>education_unknown</th>\n",
       "      <th>poutcome_failure</th>\n",
       "      <th>poutcome_nonexistent</th>\n",
       "      <th>poutcome_success</th>\n",
       "      <th>contact_cellular</th>\n",
       "      <th>contact_telephone</th>\n",
       "      <th>housing_no</th>\n",
       "      <th>housing_unknown</th>\n",
       "      <th>housing_yes</th>\n",
       "    </tr>\n",
       "  </thead>\n",
       "  <tbody>\n",
       "    <tr>\n",
       "      <th>31784</th>\n",
       "      <td>37</td>\n",
       "      <td>0</td>\n",
       "      <td>4.0</td>\n",
       "      <td>3.0</td>\n",
       "      <td>166</td>\n",
       "      <td>1</td>\n",
       "      <td>999</td>\n",
       "      <td>0</td>\n",
       "      <td>-1.8</td>\n",
       "      <td>92.893</td>\n",
       "      <td>...</td>\n",
       "      <td>0</td>\n",
       "      <td>0</td>\n",
       "      <td>0</td>\n",
       "      <td>1</td>\n",
       "      <td>0</td>\n",
       "      <td>1</td>\n",
       "      <td>0</td>\n",
       "      <td>0</td>\n",
       "      <td>0</td>\n",
       "      <td>1</td>\n",
       "    </tr>\n",
       "    <tr>\n",
       "      <th>10724</th>\n",
       "      <td>22</td>\n",
       "      <td>0</td>\n",
       "      <td>5.0</td>\n",
       "      <td>1.0</td>\n",
       "      <td>249</td>\n",
       "      <td>2</td>\n",
       "      <td>999</td>\n",
       "      <td>0</td>\n",
       "      <td>1.4</td>\n",
       "      <td>94.465</td>\n",
       "      <td>...</td>\n",
       "      <td>0</td>\n",
       "      <td>0</td>\n",
       "      <td>0</td>\n",
       "      <td>1</td>\n",
       "      <td>0</td>\n",
       "      <td>0</td>\n",
       "      <td>1</td>\n",
       "      <td>0</td>\n",
       "      <td>0</td>\n",
       "      <td>1</td>\n",
       "    </tr>\n",
       "    <tr>\n",
       "      <th>29318</th>\n",
       "      <td>43</td>\n",
       "      <td>0</td>\n",
       "      <td>3.0</td>\n",
       "      <td>4.0</td>\n",
       "      <td>160</td>\n",
       "      <td>2</td>\n",
       "      <td>999</td>\n",
       "      <td>0</td>\n",
       "      <td>-1.8</td>\n",
       "      <td>93.075</td>\n",
       "      <td>...</td>\n",
       "      <td>0</td>\n",
       "      <td>0</td>\n",
       "      <td>0</td>\n",
       "      <td>1</td>\n",
       "      <td>0</td>\n",
       "      <td>1</td>\n",
       "      <td>0</td>\n",
       "      <td>0</td>\n",
       "      <td>0</td>\n",
       "      <td>1</td>\n",
       "    </tr>\n",
       "    <tr>\n",
       "      <th>18907</th>\n",
       "      <td>36</td>\n",
       "      <td>0</td>\n",
       "      <td>7.0</td>\n",
       "      <td>0.0</td>\n",
       "      <td>58</td>\n",
       "      <td>1</td>\n",
       "      <td>999</td>\n",
       "      <td>0</td>\n",
       "      <td>1.4</td>\n",
       "      <td>93.444</td>\n",
       "      <td>...</td>\n",
       "      <td>0</td>\n",
       "      <td>0</td>\n",
       "      <td>0</td>\n",
       "      <td>1</td>\n",
       "      <td>0</td>\n",
       "      <td>1</td>\n",
       "      <td>0</td>\n",
       "      <td>1</td>\n",
       "      <td>0</td>\n",
       "      <td>0</td>\n",
       "    </tr>\n",
       "    <tr>\n",
       "      <th>39419</th>\n",
       "      <td>58</td>\n",
       "      <td>0</td>\n",
       "      <td>2.0</td>\n",
       "      <td>0.0</td>\n",
       "      <td>317</td>\n",
       "      <td>4</td>\n",
       "      <td>999</td>\n",
       "      <td>0</td>\n",
       "      <td>-1.8</td>\n",
       "      <td>93.369</td>\n",
       "      <td>...</td>\n",
       "      <td>0</td>\n",
       "      <td>0</td>\n",
       "      <td>0</td>\n",
       "      <td>1</td>\n",
       "      <td>0</td>\n",
       "      <td>1</td>\n",
       "      <td>0</td>\n",
       "      <td>0</td>\n",
       "      <td>0</td>\n",
       "      <td>1</td>\n",
       "    </tr>\n",
       "  </tbody>\n",
       "</table>\n",
       "<p>5 rows × 44 columns</p>\n",
       "</div>"
      ],
      "text/plain": [
       "       age  loan  month  day_of_week  duration  campaign  pdays  previous  \\\n",
       "31784   37     0    4.0          3.0       166         1    999         0   \n",
       "10724   22     0    5.0          1.0       249         2    999         0   \n",
       "29318   43     0    3.0          4.0       160         2    999         0   \n",
       "18907   36     0    7.0          0.0        58         1    999         0   \n",
       "39419   58     0    2.0          0.0       317         4    999         0   \n",
       "\n",
       "       emp.var.rate  cons.price.idx  ...  education_university.degree  \\\n",
       "31784          -1.8          92.893  ...                            0   \n",
       "10724           1.4          94.465  ...                            0   \n",
       "29318          -1.8          93.075  ...                            0   \n",
       "18907           1.4          93.444  ...                            0   \n",
       "39419          -1.8          93.369  ...                            0   \n",
       "\n",
       "       education_unknown  poutcome_failure  poutcome_nonexistent  \\\n",
       "31784                  0                 0                     1   \n",
       "10724                  0                 0                     1   \n",
       "29318                  0                 0                     1   \n",
       "18907                  0                 0                     1   \n",
       "39419                  0                 0                     1   \n",
       "\n",
       "       poutcome_success  contact_cellular  contact_telephone  housing_no  \\\n",
       "31784                 0                 1                  0           0   \n",
       "10724                 0                 0                  1           0   \n",
       "29318                 0                 1                  0           0   \n",
       "18907                 0                 1                  0           1   \n",
       "39419                 0                 1                  0           0   \n",
       "\n",
       "       housing_unknown  housing_yes  \n",
       "31784                0            1  \n",
       "10724                0            1  \n",
       "29318                0            1  \n",
       "18907                0            0  \n",
       "39419                0            1  \n",
       "\n",
       "[5 rows x 44 columns]"
      ]
     },
     "execution_count": 225,
     "metadata": {},
     "output_type": "execute_result"
    }
   ],
   "source": [
    "X_test.head()"
   ]
  },
  {
   "cell_type": "code",
   "execution_count": 226,
   "id": "09e39584",
   "metadata": {
    "scrolled": true
   },
   "outputs": [
    {
     "name": "stdout",
     "output_type": "stream",
     "text": [
      "0.7977980405470948\n"
     ]
    }
   ],
   "source": [
    "print(rf_model.score(X_test, y_test))"
   ]
  },
  {
   "cell_type": "code",
   "execution_count": 227,
   "id": "5ae26dec",
   "metadata": {},
   "outputs": [],
   "source": [
    "test_pred_df = X_test.copy()"
   ]
  },
  {
   "cell_type": "code",
   "execution_count": 228,
   "id": "73eb09ea",
   "metadata": {},
   "outputs": [],
   "source": [
    "# Create predictions and store them in a variable\n",
    "preds = rf_model.predict_proba(X_test)\n",
    "# Calculating Probability of Default\n",
    "prob_default = preds[:, 1]\n",
    "test_pred_df['prob_default'] = prob_default"
   ]
  },
  {
   "cell_type": "code",
   "execution_count": 229,
   "id": "171e5c10",
   "metadata": {},
   "outputs": [],
   "source": [
    "train_pred_df = X_train.copy()"
   ]
  },
  {
   "cell_type": "code",
   "execution_count": 230,
   "id": "5d5efdca",
   "metadata": {},
   "outputs": [],
   "source": [
    "# Create predictions and store them in a variable\n",
    "preds = rf_model.predict_proba(X_train)\n",
    "# Calculating Probability of Default\n",
    "prob_default = preds[:, 1]\n",
    "train_pred_df['prob_default'] = prob_default"
   ]
  },
  {
   "cell_type": "code",
   "execution_count": 231,
   "id": "8e9101c8",
   "metadata": {},
   "outputs": [
    {
     "data": {
      "text/plain": [
       "Text(0.5, 1.0, 'Distribution of test')"
      ]
     },
     "execution_count": 231,
     "metadata": {},
     "output_type": "execute_result"
    },
    {
     "data": {
      "image/png": "[encoded data removed]",
      "text/plain": [
       "<Figure size 864x360 with 2 Axes>"
      ]
     },
     "metadata": {},
     "output_type": "display_data"
    }
   ],
   "source": [
    "fig, ax = plt.subplots(1, 2)\n",
    "\n",
    "train_pred_df['prob_default'].hist(figsize=(12,5),ax=ax[0],color='g')\n",
    "test_pred_df['prob_default'].hist(figsize=(12,5),ax=ax[1],color='g')\n",
    "\n",
    "ax[0].set_title('Distribution of train')\n",
    "ax[1].set_title('Distribution of test')"
   ]
  },
  {
   "cell_type": "code",
   "execution_count": null,
   "id": "94a14569",
   "metadata": {},
   "outputs": [],
   "source": []
  }
 ],
 "metadata": {
  "kernelspec": {
   "display_name": "Python 3",
   "language": "python",
   "name": "python3"
  },
  "language_info": {
   "codemirror_mode": {
    "name": "ipython",
    "version": 3
   },
   "file_extension": ".py",
   "mimetype": "text/x-python",
   "name": "python",
   "nbconvert_exporter": "python",
   "pygments_lexer": "ipython3",
   "version": "3.8.8"
  },
  "toc": {
   "base_numbering": 1,
   "nav_menu": {},
   "number_sections": true,
   "sideBar": true,
   "skip_h1_title": false,
   "title_cell": "Table of Contents",
   "title_sidebar": "Contents",
   "toc_cell": false,
   "toc_position": {},
   "toc_section_display": true,
   "toc_window_display": false
  }
 },
 "nbformat": 4,
 "nbformat_minor": 5
}
